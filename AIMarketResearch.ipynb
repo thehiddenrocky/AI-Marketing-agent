{
 "cells": [
  {
   "cell_type": "markdown",
   "id": "d2cd9d89-42f4-4ef4-8491-b840d7706ed5",
   "metadata": {},
   "source": [
    "### Install Required Dependencies \n",
    "Install necessary Python packages for the project:"
   ]
  },
  {
   "cell_type": "code",
   "execution_count": 3,
   "id": "5673d0d7d51ef2e0",
   "metadata": {},
   "outputs": [],
   "source": [
    "!pip install -q chromadb praw openai load-dotenv langchain langchain-openai langchain-text-splitters langgraph"
   ]
  },
  {
   "cell_type": "markdown",
   "id": "14e7ec67-a5d3-41df-9df5-539681fcf65c",
   "metadata": {},
   "source": [
    "### Import Libraries\n",
    "Import required Python libraries and modules:"
   ]
  },
  {
   "cell_type": "code",
   "execution_count": 4,
   "id": "5d633b6b-9988-4134-8fe5-0c05c054db5e",
   "metadata": {
    "ExecuteTime": {
     "end_time": "2024-11-17T14:41:36.332725Z",
     "start_time": "2024-11-17T14:41:34.523399Z"
    }
   },
   "outputs": [],
   "source": [
    "import json\n",
    "import os\n",
    "import time\n",
    "from typing import List, Dict, TypedDict\n",
    "\n",
    "import chromadb\n",
    "import praw\n",
    "from langchain_openai import OpenAIEmbeddings\n",
    "from langchain_text_splitters import RecursiveCharacterTextSplitter\n",
    "from openai import OpenAI"
   ]
  },
  {
   "cell_type": "markdown",
   "id": "b521c1abdfb7d75c",
   "metadata": {},
   "source": [
    "# Marketing Research Agent"
   ]
  },
  {
   "cell_type": "markdown",
   "id": "af4c9abf9e30f38",
   "metadata": {},
   "source": [
    "## Knowledge base generation pipeline"
   ]
  },
  {
   "cell_type": "code",
   "execution_count": 5,
   "id": "d74b9ef0648dd411",
   "metadata": {
    "ExecuteTime": {
     "end_time": "2024-11-17T14:42:01.631900Z",
     "start_time": "2024-11-17T14:42:01.614375Z"
    }
   },
   "outputs": [],
   "source": [
    "from dotenv import load_dotenv\n",
    "load_dotenv()\n",
    "\n",
    "OPENAI_API_KEY = os.getenv(\"OPENAI_API_KEY\")\n",
    "CLIENT_ID = os.getenv('REDDIT_CLIENT_ID')\n",
    "CLIENT_SECRET = os.getenv('REDDIT_CLIENT_SECRET')\n",
    "USER_AGENT = os.getenv('REDDIT_USER_AGENT')\n",
    "\n",
    "GENERATE_KNOWLEDGE = False"
   ]
  },
  {
   "cell_type": "code",
   "execution_count": 6,
   "id": "792d211c92430f29",
   "metadata": {
    "ExecuteTime": {
     "end_time": "2024-11-17T14:42:04.195390Z",
     "start_time": "2024-11-17T14:42:04.105941Z"
    }
   },
   "outputs": [],
   "source": [
    "client = OpenAI()\n",
    "reddit = praw.Reddit(client_id=CLIENT_ID,\n",
    "                     client_secret=CLIENT_SECRET,\n",
    "                     user_agent=USER_AGENT)"
   ]
  },
  {
   "cell_type": "code",
   "execution_count": 7,
   "id": "9cdebf856a9754c0",
   "metadata": {
    "ExecuteTime": {
     "end_time": "2024-11-17T14:42:06.806254Z",
     "start_time": "2024-11-17T14:42:06.800999Z"
    }
   },
   "outputs": [],
   "source": [
    "def get_relevant_topics(query: str) -> list:\n",
    "    \"\"\"\n",
    "    Use OpenAI to generate relevant search phrases for a query\n",
    "    \"\"\"\n",
    "    prompt = f\"\"\"\n",
    "        You are a Reddit search expert who understands how Redditors discuss and search for topics.\n",
    "        Given the query \"{query}\", generate 5 search phrases that will find the most relevant subreddits.\n",
    "\n",
    "        Consider:\n",
    "        - How Redditors naturally phrase their questions/discussions\n",
    "        - Common abbreviations and terminology used on Reddit\n",
    "        - Related tools, technologies, or concepts frequently discussed\n",
    "        - Industry-specific subreddit naming patterns\n",
    "        - Problem-focused search terms (as many discussions are about solving problems)\n",
    "\n",
    "        For example, if query is \"project management software\":\n",
    "        - projectmanagement (direct community)\n",
    "        - asana vs trello (tool comparison commonly discussed)\n",
    "        - agile tools (methodology + tools)\n",
    "        - jira alternatives (tool alternative discussions)\n",
    "        - remote team management (broader problem space)\n",
    "        Return exactly 5 search phrases, one per line.\n",
    "        Focus on phrases that would lead to active, relevant subreddit communities.\n",
    "        Do not include any bullets, numbers, or prefixes.\n",
    "    \"\"\"\n",
    "    \n",
    "    try:\n",
    "        response = client.chat.completions.create(\n",
    "            model=\"gpt-3.5-turbo\",\n",
    "            messages=[{\n",
    "                \"role\": \"user\",\n",
    "                \"content\": prompt\n",
    "            }],\n",
    "            temperature=0.5,\n",
    "            max_tokens=256\n",
    "        )\n",
    "        \n",
    "        # Extract and clean phrases\n",
    "        search_phrases = [\n",
    "            phrase.strip()\n",
    "            for phrase in response.choices[0].message.content.split('\\n')\n",
    "            if phrase.strip() and not phrase.startswith(('-', '*', '•', '1', '2', '3', '4', '5'))\n",
    "        ]\n",
    "        \n",
    "        print(f\"Generated search phrases: {search_phrases}\")\n",
    "        return search_phrases\n",
    "    except Exception as e:\n",
    "        print(f\"Error generating topics: {e}\")\n",
    "        return [query]\n"
   ]
  },
  {
   "cell_type": "code",
   "execution_count": 8,
   "id": "be594236c8f5d385",
   "metadata": {
    "ExecuteTime": {
     "end_time": "2024-11-17T14:42:07.200385Z",
     "start_time": "2024-11-17T14:42:07.197178Z"
    }
   },
   "outputs": [],
   "source": [
    "def search_subreddits(search_terms, limit=50):\n",
    "    \"\"\"\n",
    "    Search for subreddits matching multiple search terms.\n",
    "    \n",
    "    Args:\n",
    "        search_terms (list): List of search queries to use\n",
    "        limit (int): Maximum number of subreddits to return per search term\n",
    "    \n",
    "    Returns:\n",
    "        list: List of unique subreddit names found across all search terms\n",
    "    \"\"\"\n",
    "    print(f\"Searching for subreddits matching {len(search_terms)} search terms...\")\n",
    "    subreddits = set()  # Using a set to avoid duplicates\n",
    "    \n",
    "    try:\n",
    "        for term in search_terms:\n",
    "            print(f\"Searching with term: '{term}'...\")\n",
    "            term_subreddits = []  \n",
    "            for subreddit in reddit.subreddits.search(term, limit=limit):\n",
    "                subreddits.add(subreddit.display_name)\n",
    "                term_subreddits.append(subreddit.display_name)\n",
    "            print(f\"Found with '{term}': {term_subreddits}\")\n",
    "    except Exception as e:\n",
    "        print(f\"Error during subreddit search: {e}\")\n",
    "    \n",
    "    return list(subreddits)  # Convert set back to list for consistency"
   ]
  },
  {
   "cell_type": "code",
   "execution_count": 9,
   "id": "1aba7db8434c5333",
   "metadata": {
    "ExecuteTime": {
     "end_time": "2024-11-17T14:42:07.541432Z",
     "start_time": "2024-11-17T14:42:07.538239Z"
    }
   },
   "outputs": [],
   "source": [
    "def get_subreddit_info(subreddit_name):\n",
    "    \"\"\"\n",
    "    Retrieve information about a subreddit.\n",
    "    \"\"\"\n",
    "    try:\n",
    "        subreddit = reddit.subreddit(subreddit_name)\n",
    "        return {\n",
    "            'name': subreddit.display_name,\n",
    "            'title': subreddit.title,\n",
    "            'subscribers': subreddit.subscribers,\n",
    "            'public_description': subreddit.public_description\n",
    "        }\n",
    "    except Exception as e:\n",
    "        print(f\"Error retrieving info for r/{subreddit_name}: {e}\")\n",
    "        return None"
   ]
  },
  {
   "cell_type": "code",
   "execution_count": 10,
   "id": "e33237cf98b570b4",
   "metadata": {
    "ExecuteTime": {
     "end_time": "2024-11-17T14:42:07.837177Z",
     "start_time": "2024-11-17T14:42:07.830900Z"
    }
   },
   "outputs": [],
   "source": [
    "def get_subreddit_posts(subreddit_name: str, max_posts: int, max_comments: int = None):\n",
    "    \"\"\"\n",
    "    Fetch all posts and comments from a subreddit, and extract problem-related sentences.\n",
    "    \"\"\"\n",
    "    subreddit = reddit.subreddit(subreddit_name)\n",
    "    posts_data = []\n",
    "\n",
    "    print(f\"Fetching posts from r/{subreddit_name}...\")\n",
    "\n",
    "    try:\n",
    "        for post in subreddit.new(limit=max_posts):\n",
    "            post_info = {\n",
    "                'id': post.id,\n",
    "                'title': post.title,\n",
    "                'author': str(post.author),\n",
    "                'score': post.score,\n",
    "                'upvotes': post.ups,\n",
    "                'downvotes': post.downs,\n",
    "                'num_comments': post.num_comments,\n",
    "                'created_utc': post.created_utc,\n",
    "                'url': post.url,\n",
    "                'permalink': post.permalink,\n",
    "                'selftext': post.selftext,\n",
    "                'comments': []\n",
    "            }\n",
    "\n",
    "            post.comments.replace_more(limit=max_comments)\n",
    "            print(f\"Fetching comments for post ID {post.id}...\")\n",
    "            for comment in post.comments.list():\n",
    "                comment_info = {\n",
    "                    'id': comment.id,\n",
    "                    'author': str(comment.author),\n",
    "                    'body': comment.body,\n",
    "                    'score': comment.score,\n",
    "                    'upvotes': comment.ups,\n",
    "                    'downvotes': comment.downs,\n",
    "                    'created_utc': comment.created_utc,\n",
    "                    'parent_id': comment.parent_id,\n",
    "                    'link_id': comment.link_id,\n",
    "                    'permalink': comment.permalink\n",
    "                }\n",
    "\n",
    "                post_info['comments'].append(comment_info)\n",
    "\n",
    "            posts_data.append(post_info)\n",
    "            time.sleep(0.5)\n",
    "\n",
    "    except Exception as e:\n",
    "        print(f\"Error fetching posts from r/{subreddit_name}: {e}\")\n",
    "\n",
    "    return posts_data"
   ]
  },
  {
   "cell_type": "code",
   "execution_count": 11,
   "id": "7dabfbd537f3d756",
   "metadata": {
    "ExecuteTime": {
     "end_time": "2024-11-17T14:42:08.193411Z",
     "start_time": "2024-11-17T14:42:08.186305Z"
    }
   },
   "outputs": [],
   "source": [
    "def process_and_store_in_chroma(posts_data: List[Dict], collection_name: str):\n",
    "    chroma_client = chromadb.PersistentClient(path=\"data/chroma_db\")\n",
    "    embeddings_client = OpenAIEmbeddings(\n",
    "        model=\"text-embedding-3-small\",\n",
    "        openai_api_key=OPENAI_API_KEY\n",
    "    )\n",
    "\n",
    "    collection = chroma_client.get_or_create_collection(name=collection_name)\n",
    "\n",
    "    text_splitter = RecursiveCharacterTextSplitter(\n",
    "        chunk_size=500,\n",
    "        chunk_overlap=50\n",
    "    )\n",
    "\n",
    "    documents = []\n",
    "    metadatas = []\n",
    "    ids = []\n",
    "    doc_id = 0\n",
    "\n",
    "    print(f\"Processing posts and comments for {collection_name}...\")\n",
    "\n",
    "    for post in posts_data:\n",
    "        if post[\"selftext\"]:\n",
    "            chunks = text_splitter.split_text(post[\"selftext\"]) if len(post[\"selftext\"]) > 500 else [post[\"selftext\"]]\n",
    "\n",
    "            chunk_embeddings = embeddings_client.embed_documents(chunks)\n",
    "\n",
    "            for chunk, embedding in zip(chunks, chunk_embeddings):\n",
    "                documents.append(chunk)\n",
    "                metadatas.append({\n",
    "                    \"id\": post[\"id\"],\n",
    "                    \"type\": \"post\",\n",
    "                    \"title\": post[\"title\"],\n",
    "                    \"author\": post[\"author\"],\n",
    "                    \"url\": post[\"url\"],\n",
    "                    \"created_utc\": str(post[\"created_utc\"])\n",
    "                })\n",
    "                ids.append(f\"doc_{doc_id}\")\n",
    "                doc_id += 1\n",
    "\n",
    "        for comment in post.get(\"comments\", []):\n",
    "            if comment[\"body\"]:\n",
    "                chunks = text_splitter.split_text(comment[\"body\"]) if len(comment[\"body\"]) > 500 else [comment[\"body\"]]\n",
    "\n",
    "                chunk_embeddings = embeddings_client.embed_documents(chunks)\n",
    "\n",
    "                for chunk, embedding in zip(chunks, chunk_embeddings):\n",
    "                    documents.append(chunk)\n",
    "                    metadatas.append({\n",
    "                        \"id\": comment[\"id\"],\n",
    "                        \"type\": \"comment\",\n",
    "                        \"post_id\": post[\"id\"],\n",
    "                        \"post_title\": post[\"title\"],\n",
    "                        \"author\": comment[\"author\"],\n",
    "                        \"parent_id\": comment[\"parent_id\"],\n",
    "                        \"url\": comment[\"url\"],\n",
    "                        \"created_utc\": str(comment[\"created_utc\"])\n",
    "                    })\n",
    "                    ids.append(f\"doc_{doc_id}\")\n",
    "                    doc_id += 1\n",
    "\n",
    "        if len(documents) >= 500:\n",
    "            embeddings = embeddings_client.embed_documents(documents)\n",
    "            collection.add(\n",
    "                documents=documents,\n",
    "                embeddings=embeddings,\n",
    "                metadatas=metadatas,\n",
    "                ids=ids\n",
    "            )\n",
    "            print(f\"Added batch of {len(documents)} documents to Chroma\")\n",
    "            documents = []\n",
    "            metadatas = []\n",
    "            ids = []\n",
    "\n",
    "    # Add any remaining documents\n",
    "    if documents:\n",
    "        embeddings = embeddings_client.embed_documents(documents)\n",
    "        collection.add(\n",
    "            documents=documents,\n",
    "            embeddings=embeddings,\n",
    "            metadatas=metadatas,\n",
    "            ids=ids\n",
    "        )\n",
    "        print(f\"Added final batch of {len(documents)} documents to Chroma\")\n",
    "\n",
    "    return collection.count()"
   ]
  },
  {
   "cell_type": "code",
   "execution_count": 12,
   "id": "78d60fa8d41f57b3",
   "metadata": {
    "ExecuteTime": {
     "end_time": "2024-11-17T14:42:08.527535Z",
     "start_time": "2024-11-17T14:42:08.523598Z"
    }
   },
   "outputs": [],
   "source": [
    "def generate_knowledge_base(user_query: str, max_subreddits: int, min_subscribers: int, max_posts: int, max_comments: int = None):    \n",
    "    search_terms = get_relevant_topics(query=user_query)\n",
    "    found_subreddits = search_subreddits(search_terms=search_terms, limit=max_subreddits)\n",
    "    \n",
    "    if not found_subreddits:\n",
    "        print(\"No subreddits with enough subscribers found with the given query.\")\n",
    "        return\n",
    "    \n",
    "    print(\"\\nRetrieving subreddit information...\")\n",
    "    subreddit_infos = []\n",
    "    for subreddit_name in found_subreddits:\n",
    "        info = get_subreddit_info(subreddit_name)\n",
    "        if info:\n",
    "            subreddit_infos.append(info)\n",
    "        time.sleep(1)\n",
    "        \n",
    "    for info in subreddit_infos:\n",
    "        if info['subscribers'] > min_subscribers:\n",
    "            subreddit_name = info['name']\n",
    "            print(f\"\\nProcessing r/{subreddit_name}...\")\n",
    "            \n",
    "            posts = get_subreddit_posts(subreddit_name, max_posts, max_comments)\n",
    "    \n",
    "            try:\n",
    "                collection_name = f\"reddit_{subreddit_name.lower()}\"\n",
    "                doc_count = process_and_store_in_chroma(posts, collection_name)\n",
    "                print(f\"Processed and stored {doc_count} documents in Chroma collection '{collection_name}'\")\n",
    "            except Exception as e:\n",
    "                print(f\"Error processing and storing data in Chroma: {e}\")"
   ]
  },
  {
   "cell_type": "code",
   "execution_count": 13,
   "id": "75663b31bfffed30",
   "metadata": {
    "ExecuteTime": {
     "end_time": "2024-11-17T14:42:08.826137Z",
     "start_time": "2024-11-17T14:42:08.817062Z"
    }
   },
   "outputs": [],
   "source": [
    "if GENERATE_KNOWLEDGE:\n",
    "    query = input(\"Enter the search query for subreddits: \")\n",
    "    max_subreddits = int(input(\"Enter the number of subreddits to find: \"))\n",
    "    generate_knowledge_base(user_query=query, max_subreddits=max_subreddits, min_subscribers=100000, max_posts=100)"
   ]
  },
  {
   "cell_type": "markdown",
   "id": "bbd45328086e0fca",
   "metadata": {},
   "source": [
    "## Agent workflow"
   ]
  },
  {
   "cell_type": "code",
   "execution_count": 14,
   "id": "53990c6a46798f0b",
   "metadata": {
    "ExecuteTime": {
     "end_time": "2024-11-17T14:42:10.337836Z",
     "start_time": "2024-11-17T14:42:10.299750Z"
    }
   },
   "outputs": [],
   "source": [
    "from langchain_openai import ChatOpenAI\n",
    "from langchain_core.prompts import ChatPromptTemplate\n",
    "from langchain_core.messages import SystemMessage, AIMessage, HumanMessage\n",
    "\n",
    "from langgraph.graph import END, START, StateGraph"
   ]
  },
  {
   "cell_type": "code",
   "execution_count": 15,
   "id": "460ae210411f8a56",
   "metadata": {
    "ExecuteTime": {
     "end_time": "2024-11-17T14:42:10.754797Z",
     "start_time": "2024-11-17T14:42:10.731612Z"
    }
   },
   "outputs": [],
   "source": [
    "llm = ChatOpenAI(model=\"gpt-4\", temperature=0)"
   ]
  },
  {
   "cell_type": "code",
   "execution_count": 16,
   "id": "7502cee186316763",
   "metadata": {
    "ExecuteTime": {
     "end_time": "2024-11-17T14:42:10.923975Z",
     "start_time": "2024-11-17T14:42:10.918863Z"
    }
   },
   "outputs": [],
   "source": [
    "def query_chroma(query_text: str, collection_name: str, n_results: int = 5):\n",
    "    \"\"\"\n",
    "    Query the Chroma database for similar content.\n",
    "    \"\"\"\n",
    "    chroma_client = chromadb.PersistentClient(path=\"data/chroma_db\")\n",
    "    embeddings_client = OpenAIEmbeddings(\n",
    "        model=\"text-embedding-3-small\",\n",
    "        openai_api_key=OPENAI_API_KEY\n",
    "    )\n",
    "\n",
    "    collection = chroma_client.get_collection(name=collection_name)\n",
    "    query_embedding = embeddings_client.embed_query(query_text)\n",
    "\n",
    "    results = collection.query(\n",
    "        query_embeddings=[query_embedding],\n",
    "        n_results=n_results\n",
    "    )\n",
    "\n",
    "    return results"
   ]
  },
  {
   "cell_type": "code",
   "execution_count": 17,
   "id": "a669951fc079ccd1",
   "metadata": {
    "ExecuteTime": {
     "end_time": "2024-11-17T14:42:11.083053Z",
     "start_time": "2024-11-17T14:42:11.078273Z"
    }
   },
   "outputs": [],
   "source": [
    "def query_and_format_results(query_text: str, collection_name: str, n_results: int = 5) -> Dict[dict, list]:\n",
    "    \"\"\"\n",
    "    Query Chroma and return formatted results with all related information.\n",
    "\n",
    "    Args:\n",
    "        query_text (str): The search query\n",
    "        collection_name (str): Name of the Chroma collection to search\n",
    "        n_results (int): Number of results to return\n",
    "\n",
    "    Returns:\n",
    "        dict: Formatted results with query info and matched documents\n",
    "    \"\"\"\n",
    "    try:\n",
    "        # Get raw results from Chroma\n",
    "        results = query_chroma(query_text, collection_name, n_results)\n",
    "\n",
    "        # Format the results\n",
    "        formatted_results = {\n",
    "            \"query_info\": {\n",
    "                \"search_query\": query_text,\n",
    "                \"collection\": collection_name,\n",
    "                \"total_results\": len(results['ids'][0])\n",
    "            },\n",
    "            \"matches\": []\n",
    "        }\n",
    "\n",
    "        # Process each result\n",
    "        for i in range(len(results['ids'][0])):\n",
    "            match = {\n",
    "                \"content\": results['documents'][0][i],\n",
    "                \"metadata\": results['metadatas'][0][i],\n",
    "                \"distance\": results['distances'][0][i] if 'distances' in results else None\n",
    "            }\n",
    "            formatted_results[\"matches\"].append(match)\n",
    "\n",
    "        return formatted_results\n",
    "\n",
    "    except Exception as e:\n",
    "        print(f\"Error querying database: {e}\")\n",
    "        return None\n"
   ]
  },
  {
   "cell_type": "code",
   "execution_count": 18,
   "id": "7eeba914d30f2025",
   "metadata": {
    "ExecuteTime": {
     "end_time": "2024-11-17T14:42:11.230777Z",
     "start_time": "2024-11-17T14:42:11.227068Z"
    }
   },
   "outputs": [],
   "source": [
    "def augment_query(query_text: str, query_file_path: str = 'augment.json'):\n",
    "    \"\"\"Augment query using json\"\"\"\n",
    "    try:\n",
    "        with open(query_file_path, 'r') as f:\n",
    "            rules = json.load(f)\n",
    "            return [f\"{rule.get('prefix', '')} {query_text} {rule.get('suffix', '')}\".strip() \n",
    "                    for rule in rules.get('searches', [])]\n",
    "    except:\n",
    "        return [query_text]"
   ]
  },
  {
   "cell_type": "code",
   "execution_count": 19,
   "id": "af4586c1a11d49bc",
   "metadata": {
    "ExecuteTime": {
     "end_time": "2024-11-17T14:42:11.390349Z",
     "start_time": "2024-11-17T14:42:11.387895Z"
    }
   },
   "outputs": [],
   "source": [
    "def retrieve(state):\n",
    "    query = state[\"query\"]\n",
    "    # TODO: Determine best collection\n",
    "    # collection_name = state[\"collection\"]\n",
    "    collection_name = \"reddit_digitalmarketing\"\n",
    "    all_matches = []\n",
    "    #augmented_queries = augment_query(query)\n",
    "    augmented_queries = [query]\n",
    "    for augmented_query in augmented_queries:\n",
    "        #print(f\"=== Search augmented query: {augmented_query} ===\")\n",
    "        results = query_and_format_results(augmented_query, collection_name)\n",
    "        if results and 'matches' in results:\n",
    "            all_matches.extend(results['matches'])\n",
    "        \n",
    "    if results:  # Keep the last results structure but update matches\n",
    "        results['matches'] = all_matches\n",
    "        results['query_info']['total_results'] = len(all_matches)\n",
    "        \n",
    "    return {\"results\": results, \"query\": query}"
   ]
  },
  {
   "cell_type": "code",
   "execution_count": 20,
   "id": "986d983f1db6c90a",
   "metadata": {
    "ExecuteTime": {
     "end_time": "2024-11-17T14:42:11.537104Z",
     "start_time": "2024-11-17T14:42:11.534114Z"
    }
   },
   "outputs": [],
   "source": [
    "def generate(state):\n",
    "    results = state[\"results\"]\n",
    "    query = state[\"query\"]\n",
    "    \n",
    "    context_parts = []\n",
    "    for match in results['matches']:\n",
    "        metadata = match['metadata']\n",
    "        source_info = f\"Source: {metadata['type'].capitalize()}\"\n",
    "        if metadata['type'] == 'post':\n",
    "            source_info += f\" - Title: {metadata['title']}\"\n",
    "        \n",
    "        context_parts.append(f\"{source_info}\\nContent: {match['content']}\\n\")\n",
    "        \n",
    "    context = \"\\n\".join(context_parts)\n",
    "\n",
    "    with open('generator_prompt.txt', 'r') as f:\n",
    "        sys_prompt = f.read()\n",
    "    \n",
    "    prompt = ChatPromptTemplate.from_messages([\n",
    "        SystemMessage(content=sys_prompt),\n",
    "        AIMessage(content=f\"**Context:**\\n{context}\\n\\n\"),\n",
    "        HumanMessage(content=f\"**Question:** {query}\")\n",
    "    ])\n",
    "    \n",
    "    generator = prompt | llm\n",
    "    response = generator.invoke({})\n",
    "    \n",
    "    return {\"results\": results, \"query\": query, \"generation\": response.content}  "
   ]
  },
  {
   "cell_type": "code",
   "execution_count": 21,
   "id": "214c9bbe6fa1e691",
   "metadata": {
    "ExecuteTime": {
     "end_time": "2024-11-17T14:42:11.695346Z",
     "start_time": "2024-11-17T14:42:11.692804Z"
    }
   },
   "outputs": [],
   "source": [
    "class AgentState(TypedDict):\n",
    "    query : str\n",
    "    generation: str\n",
    "    results : Dict[dict, list]"
   ]
  },
  {
   "cell_type": "code",
   "execution_count": 22,
   "id": "52716f0f97c410a4",
   "metadata": {
    "ExecuteTime": {
     "end_time": "2024-11-17T14:42:11.831623Z",
     "start_time": "2024-11-17T14:42:11.827972Z"
    }
   },
   "outputs": [],
   "source": [
    "workflow = StateGraph(AgentState)\n",
    "\n",
    "workflow.add_node(retrieve, \"retrieve\")\n",
    "workflow.add_node(generate, \"generate\")\n",
    "\n",
    "workflow.add_edge(start_key=START, end_key=\"retrieve\")\n",
    "workflow.add_edge(start_key=\"retrieve\", end_key=\"generate\")\n",
    "workflow.add_edge(start_key=\"generate\", end_key=END)\n",
    "\n",
    "graph = workflow.compile()"
   ]
  },
  {
   "cell_type": "code",
   "execution_count": 23,
   "id": "6827a8528a3dcd4c",
   "metadata": {
    "ExecuteTime": {
     "end_time": "2024-11-17T14:42:12.694296Z",
     "start_time": "2024-11-17T14:42:11.984323Z"
    }
   },
   "outputs": [
    {
     "data": {
      "image/png": "[encoded data removed]",
      "text/plain": [
       "<IPython.core.display.Image object>"
      ]
     },
     "metadata": {},
     "output_type": "display_data"
    }
   ],
   "source": [
    "from IPython.display import Image, display\n",
    "\n",
    "display(Image(graph.get_graph(xray=True).draw_mermaid_png()))"
   ]
  },
  {
   "cell_type": "code",
   "execution_count": 24,
   "id": "1bb73ff7a40fa7e3",
   "metadata": {
    "ExecuteTime": {
     "end_time": "2024-11-17T14:42:23.083748Z",
     "start_time": "2024-11-17T14:42:12.714588Z"
    }
   },
   "outputs": [
    {
     "name": "stdout",
     "output_type": "stream",
     "text": [
      "['Find popular tools for What are the best tools for lead generation? and their main features', 'List common complaints about What are the best tools for lead generation? tools and software', 'Identify market leaders in What are the best tools for lead generation? tools and their advantages', 'Find current trends in What are the best tools for lead generation? tools and technologies', 'What are users wishing for in What are the best tools for lead generation? tools and features', 'Compare different What are the best tools for lead generation? tools pricing and features', 'Find pain points with existing What are the best tools for lead generation? tools and solutions', 'Discover emerging alternatives to What are the best tools for lead generation? tools in the market']\n"
     ]
    }
   ],
   "source": [
    "inputs = {\"query\": \"What are the best tools for lead generation?\"}\n",
    "augmented_inputs = augment_query(inputs[\"query\"])\n",
    "print (augmented_inputs)"
   ]
  },
  {
   "cell_type": "code",
   "execution_count": 27,
   "id": "92d0c9bf1564b2d1",
   "metadata": {},
   "outputs": [
    {
     "name": "stdout",
     "output_type": "stream",
     "text": [
      "Augmented query Find popular tools for What are the best tools for lead generation? and their main features\n",
      "Finished running: retrieve:\n",
      "Augmented query Find popular tools for What are the best tools for lead generation? and their main features\n",
      "Finished running: generate:\n",
      "**Key Findings:**\n",
      "\n",
      "1. There is a high demand for B2B lead generation and lead management tools, especially for small businesses and solo entrepreneurs.\n",
      "2. The most mentioned tools include Hubspot, ActiveCampaign, Mailchimp, Monday CRM, LinkedIn’s SalesFlow, Warmly, ZoomInfo, Buffer, and Hootsuite.\n",
      "3. Users are looking for tools that are cost-effective, easy to use, and offer automation and lead tracking features.\n",
      "4. There is a concern about the legitimacy of some tools, indicating a need for reliable and trustworthy platforms.\n",
      "\n",
      "**Market Implications:**\n",
      "\n",
      "1. The market for B2B lead generation and lead management tools is competitive, with many options available.\n",
      "2. There is a potential market gap for cost-effective, user-friendly tools that cater to small businesses and solo entrepreneurs.\n",
      "3. Trust and reliability are important factors for users when choosing a tool, indicating a need for platforms to build and maintain a strong reputation.\n",
      "\n",
      "**Recommendations:**\n",
      "\n",
      "1. Develop marketing campaigns that highlight the cost-effectiveness, ease of use, and automation features of your tool.\n",
      "2. Consider offering a free trial or freemium version to attract small businesses and solo entrepreneurs.\n",
      "3. Build trust with potential users by showcasing testimonials and case studies from satisfied customers.\n",
      "4. Consider partnerships or integrations with other popular tools to increase your tool's visibility and reach.\n",
      "Augmented query List common complaints about What are the best tools for lead generation? tools and software\n",
      "Finished running: retrieve:\n",
      "Augmented query List common complaints about What are the best tools for lead generation? tools and software\n",
      "Finished running: generate:\n",
      "**Key Findings:**\n",
      "\n",
      "1. Overwhelming number of options: Users are overwhelmed by the number of lead generation and management tools available in the market.\n",
      "2. Cost: Some users find tools like Hubspot to be expensive, especially for small businesses or individuals with limited budgets.\n",
      "3. Technical complexity: Some users find it challenging to navigate the technical aspects of these tools.\n",
      "4. Ineffectiveness: Some users have tried various tools and strategies, including PPC, cold emailing, and SEO, but have not seen the desired results in terms of lead generation and conversion.\n",
      "5. Sketchy offers: Users are wary of sketchy offers in the market, indicating a trust issue with some tools or platforms.\n",
      "\n",
      "**Market Implications:**\n",
      "\n",
      "1. Market Saturation: The overwhelming number of options indicates a saturated market, with many tools offering similar functionalities.\n",
      "2. Pricing Strategy: There is a demand for cost-effective tools, especially from small businesses or individuals with limited budgets.\n",
      "3. User Experience: There is a need for tools that are user-friendly and less technical, catering to users who are not tech-savvy.\n",
      "4. Effectiveness: Tools need to demonstrate their effectiveness in generating leads and conversions to gain user trust and preference.\n",
      "5. Trust and Credibility: Trust is a significant factor in the selection of these tools. Platforms need to establish their credibility to attract and retain users.\n",
      "\n",
      "**Recommendations:**\n",
      "\n",
      "1. Differentiation: Companies should focus on differentiating their tools from others in the market, either through unique features, superior user experience, or proven effectiveness.\n",
      "2. Pricing: Consider offering flexible pricing plans to cater to different budget sizes, including options for small businesses or individuals.\n",
      "3. User-Friendly Design: Make the tools less technical and more user-friendly. Provide clear instructions and customer support to help users navigate the tools.\n",
      "4. Proven Results: Showcase success stories and case studies to demonstrate the effectiveness of the tools in generating leads and conversions.\n",
      "5. Trust Building: Avoid sketchy offers and focus on building trust through transparency, customer testimonials, and reliable service.\n",
      "Augmented query Identify market leaders in What are the best tools for lead generation? tools and their advantages\n",
      "Finished running: retrieve:\n",
      "Augmented query Identify market leaders in What are the best tools for lead generation? tools and their advantages\n",
      "Finished running: generate:\n",
      "**Key Findings:**\n",
      "\n",
      "1. The market for B2B lead generation and management tools is diverse and competitive, with many options available. Some of the tools mentioned include Monday CRM, LinkedIn’s SalesFlow, Warmly, ZoomInfo, Hubspot, ActiveCampaign, and Mailchimp.\n",
      "\n",
      "2. LinkedIn’s SalesFlow and ZoomInfo are popular for their robust features and integration with LinkedIn, a major platform for B2B marketing.\n",
      "\n",
      "3. Hubspot is recognized for its comprehensive features but is considered pricey.\n",
      "\n",
      "4. ActiveCampaign and Mailchimp are noted for their affordability and automation features.\n",
      "\n",
      "**Market Implications:**\n",
      "\n",
      "1. The diversity of tools available indicates a high demand for lead generation and management solutions, especially for B2B businesses.\n",
      "\n",
      "2. The mention of cost considerations suggests that there is a market for affordable, yet effective tools, especially for small businesses or solo entrepreneurs.\n",
      "\n",
      "3. The need for integration with other platforms (like LinkedIn) implies that businesses are looking for tools that can streamline their marketing efforts across multiple channels.\n",
      "\n",
      "**Recommendations:**\n",
      "\n",
      "1. For businesses looking for comprehensive features and have a higher budget, Hubspot could be a good option.\n",
      "\n",
      "2. For businesses with budget constraints, ActiveCampaign and Mailchimp could be considered due to their affordability and automation features.\n",
      "\n",
      "3. For businesses that heavily rely on LinkedIn for lead generation, LinkedIn’s SalesFlow and ZoomInfo could be beneficial due to their integration with the platform.\n",
      "\n",
      "4. It would be beneficial for businesses to conduct a thorough comparison of these tools, considering factors such as features, cost, integration capabilities, and user reviews before making a decision.\n",
      "Augmented query Find current trends in What are the best tools for lead generation? tools and technologies\n",
      "Finished running: retrieve:\n",
      "Augmented query Find current trends in What are the best tools for lead generation? tools and technologies\n",
      "Finished running: generate:\n",
      "**1. Key Findings:**\n",
      "\n",
      "- There is a high demand for effective and affordable B2B lead generation and management tools. \n",
      "- The tools currently being considered by users include Monday CRM, LinkedIn’s SalesFlow, Warmly, and ZoomInfo.\n",
      "- Users are also recommending tools like Hubspot, ActiveCampaign, Mailchimp, Buffer, and Hootsuite.\n",
      "- There is a need for tools that are easy to navigate for non-tech savvy users.\n",
      "- Users are also interested in tools for competitor analysis in the digital space.\n",
      "\n",
      "**2. Market Implications:**\n",
      "\n",
      "- The market for B2B lead generation and management tools is competitive, with many options available.\n",
      "- There is a gap in the market for affordable, user-friendly tools that cater to non-tech savvy users.\n",
      "- The demand for competitor analysis tools indicates a need for businesses to understand their market position and improve their products.\n",
      "\n",
      "**3. Recommendations:**\n",
      "\n",
      "- Companies should focus on creating user-friendly interfaces and providing comprehensive onboarding and customer support to cater to non-tech savvy users.\n",
      "- Offering competitive pricing or tiered pricing models could attract businesses with smaller budgets.\n",
      "- Companies could differentiate themselves by offering features for competitor analysis, as there is a demand for such tools.\n",
      "- Marketing efforts should highlight the tool's ease of use, affordability, and unique features such as competitor analysis capabilities.\n",
      "Augmented query What are users wishing for in What are the best tools for lead generation? tools and features\n",
      "Finished running: retrieve:\n",
      "Augmented query What are users wishing for in What are the best tools for lead generation? tools and features\n",
      "Finished running: generate:\n",
      "**Key Findings:**\n",
      "\n",
      "1. Users are overwhelmed by the number of options available for B2B lead generation and management tools.\n",
      "2. Users are looking for tools that are cost-effective, as they may not have large budgets to work with.\n",
      "3. Users are interested in tools that offer automation and lead tracking features.\n",
      "4. Users are also interested in tools that offer organic growth and analytics.\n",
      "5. Users are wary of sketchy offers and are looking for legitimate tools.\n",
      "\n",
      "**Market Implications:**\n",
      "\n",
      "1. There is a demand for cost-effective, legitimate B2B lead generation and management tools.\n",
      "2. Users are looking for tools that offer specific features such as automation, lead tracking, organic growth, and analytics.\n",
      "3. There is a need for better guidance and information to help users navigate the numerous options available.\n",
      "\n",
      "**Recommendations:**\n",
      "\n",
      "1. Companies should focus on creating cost-effective tools that offer the specific features users are looking for, such as automation, lead tracking, organic growth, and analytics.\n",
      "2. Companies should also focus on building trust and legitimacy, as users are wary of sketchy offers.\n",
      "3. Companies should provide clear and concise information about their tools to help users make informed decisions.\n",
      "4. Companies could also consider offering free trials or freemium versions of their tools to attract users with smaller budgets.\n",
      "Augmented query Compare different What are the best tools for lead generation? tools pricing and features\n",
      "Finished running: retrieve:\n",
      "Augmented query Compare different What are the best tools for lead generation? tools pricing and features\n",
      "Finished running: generate:\n",
      "**Key Findings:**\n",
      "\n",
      "1. There is a demand for low-cost, user-friendly B2B lead generation and management tools. Users are considering options like Monday CRM, LinkedIn’s SalesFlow, Warmly, and ZoomInfo.\n",
      "2. Users are also seeking tools for competitor analysis in the digital space.\n",
      "3. Some users recommend Hubspot, ActiveCampaign, and Mailchimp for lead generation and management, but note that Hubspot can be pricey.\n",
      "4. Buffer and Hootsuite are recommended for organic growth and analytics.\n",
      "\n",
      "**Market Implications:**\n",
      "\n",
      "1. There is a market opportunity for low-cost, user-friendly B2B lead generation and management tools. \n",
      "2. There is a demand for competitor analysis tools, indicating a potential market for such products.\n",
      "3. High pricing can be a barrier to entry for some users, suggesting a market for more affordable options.\n",
      "\n",
      "**Recommendations:**\n",
      "\n",
      "1. Companies could consider developing or promoting low-cost, user-friendly B2B lead generation and management tools to meet this market demand.\n",
      "2. Companies in the digital space could consider developing or improving competitor analysis tools.\n",
      "3. Companies could consider offering tiered pricing or discounts to make their products more accessible to users with smaller budgets.\n",
      "4. Companies could consider integrating features for organic growth and analytics into their products, as these features are valued by users.\n",
      "\n",
      "**Additional Information Needed:**\n",
      "\n",
      "1. More detailed feedback on the pros and cons of the mentioned tools would be helpful to understand their strengths and weaknesses.\n",
      "2. More information on the specific needs and budgets of the users would be helpful to tailor recommendations.\n",
      "Augmented query Find pain points with existing What are the best tools for lead generation? tools and solutions\n",
      "Finished running: retrieve:\n",
      "Augmented query Find pain points with existing What are the best tools for lead generation? tools and solutions\n",
      "Finished running: generate:\n",
      "**1. Key Findings:**\n",
      "\n",
      "- There is a sense of overwhelm and confusion when it comes to choosing the right B2B lead generation and management tools, especially for those who are not technically inclined.\n",
      "- Cost is a significant factor in the decision-making process, with many users seeking low-cost or free options.\n",
      "- Users have mentioned a variety of tools including Monday CRM, LinkedIn’s SalesFlow, Warmly, ZoomInfo, Hubspot, ActiveCampaign, and Mailchimp.\n",
      "- There is a struggle with generating leads and conversions, particularly in niche markets like therapy providers.\n",
      "- Some users have tried manual methods like cold emailing and SEO, but with limited success.\n",
      "\n",
      "**2. Market Implications:**\n",
      "\n",
      "- There is a clear market need for more user-friendly, cost-effective lead generation and management tools.\n",
      "- The market is fragmented with a variety of tools available, indicating no clear market leader or one-size-fits-all solution.\n",
      "- The struggle with lead generation in niche markets suggests a potential gap in the market for tools tailored to specific industries or customer segments.\n",
      "\n",
      "**3. Recommendations:**\n",
      "\n",
      "- Companies should focus on creating more user-friendly tools, with clear instructions and support for those who are not technically inclined.\n",
      "- Offering a range of pricing options, including low-cost or free versions, could help attract a wider range of customers.\n",
      "- Companies could differentiate themselves by offering tools tailored to specific industries or customer segments.\n",
      "- There is a potential opportunity for tools that integrate various methods of lead generation and management, such as email, SEO, and social media.\n",
      "- Companies should consider offering trial periods or demonstrations to help customers understand the value and functionality of their tools before making a purchase.\n",
      "Augmented query Discover emerging alternatives to What are the best tools for lead generation? tools in the market\n",
      "Finished running: retrieve:\n",
      "Augmented query Discover emerging alternatives to What are the best tools for lead generation? tools in the market\n",
      "Finished running: generate:\n",
      "**1. Key Findings:**\n",
      "\n",
      "- There is a high demand for B2B lead generation and management tools, especially for small businesses and solo entrepreneurs.\n",
      "- Users are overwhelmed by the number of options available and are seeking recommendations based on personal experiences.\n",
      "- Cost is a significant factor in the decision-making process, with users seeking affordable or free options.\n",
      "- Tools mentioned include Hubspot, ActiveCampaign, Mailchimp, Monday CRM, LinkedIn’s SalesFlow, Warmly, ZoomInfo, Buffer, and Hootsuite.\n",
      "- There is also interest in competitor analysis tools in the digital space.\n",
      "\n",
      "**2. Market Implications:**\n",
      "\n",
      "- The market for B2B lead generation and management tools is highly competitive, with many options available.\n",
      "- There is a gap in the market for affordable, user-friendly tools that cater to small businesses and solo entrepreneurs.\n",
      "- The demand for competitor analysis tools indicates a need for businesses to understand their market position and improve their products.\n",
      "\n",
      "**3. Recommendations:**\n",
      "\n",
      "- Companies should focus on creating affordable, user-friendly tools that cater to small businesses and solo entrepreneurs.\n",
      "- Marketing efforts should highlight the ease of use, cost-effectiveness, and comprehensive features of these tools.\n",
      "- Companies could offer free trials or freemium models to attract users and demonstrate the value of their tools.\n",
      "- Companies should also consider developing or enhancing competitor analysis features, as there is a demand for these tools in the market.\n",
      "- To stand out in the crowded market, companies should seek testimonials and case studies from satisfied customers to build trust and credibility.\n"
     ]
    }
   ],
   "source": [
    "for augmented_query in augmented_inputs:\n",
    "    augmented_input = {\"query\": augmented_query}  # Just wrap the query in a dictionary\n",
    "    for output in graph.stream(augmented_input):\n",
    "        for key, value in output.items():\n",
    "            print (\"Augmented query\", augmented_query)\n",
    "            print(f\"Finished running: {key}:\")\n",
    "            if 'generation' in value:\n",
    "                print(value['generation'])"
   ]
  },
  {
   "cell_type": "code",
   "execution_count": null,
   "id": "c08ad1b7-d2b0-4068-9414-d67c4dc3ce39",
   "metadata": {},
   "outputs": [],
   "source": []
  }
 ],
 "metadata": {
  "kernelspec": {
   "display_name": "Python 3 (ipykernel)",
   "language": "python",
   "name": "python3"
  },
  "language_info": {
   "codemirror_mode": {
    "name": "ipython",
    "version": 3
   },
   "file_extension": ".py",
   "mimetype": "text/x-python",
   "name": "python",
   "nbconvert_exporter": "python",
   "pygments_lexer": "ipython3",
   "version": "3.13.0"
  }
 },
 "nbformat": 4,
 "nbformat_minor": 5
}
