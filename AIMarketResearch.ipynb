{
 "cells": [
  {
   "metadata": {},
   "cell_type": "code",
   "source": "!pip install -q chromadb praw openai load-dotenv langchain langchain-openai langchain-text-splitters langgraph",
   "id": "5673d0d7d51ef2e0",
   "outputs": [],
   "execution_count": null
  },
  {
   "cell_type": "code",
   "id": "initial_id",
   "metadata": {
    "collapsed": true,
    "ExecuteTime": {
     "end_time": "2024-11-17T14:41:36.332725Z",
     "start_time": "2024-11-17T14:41:34.523399Z"
    }
   },
   "source": [
    "import json\n",
    "import os\n",
    "import time\n",
    "from typing import List, Dict, TypedDict\n",
    "\n",
    "import chromadb\n",
    "import praw\n",
    "from langchain_openai import OpenAIEmbeddings\n",
    "from langchain_text_splitters import RecursiveCharacterTextSplitter\n",
    "from openai import OpenAI"
   ],
   "outputs": [],
   "execution_count": 2
  },
  {
   "metadata": {},
   "cell_type": "markdown",
   "source": "# Marketing Research Agent",
   "id": "b521c1abdfb7d75c"
  },
  {
   "metadata": {},
   "cell_type": "markdown",
   "source": "## Knowledge base generation pipeline",
   "id": "af4c9abf9e30f38"
  },
  {
   "metadata": {
    "ExecuteTime": {
     "end_time": "2024-11-17T14:42:01.631900Z",
     "start_time": "2024-11-17T14:42:01.614375Z"
    }
   },
   "cell_type": "code",
   "source": [
    "from dotenv import load_dotenv\n",
    "load_dotenv()\n",
    "\n",
    "OPENAI_API_KEY = os.getenv(\"OPENAI_API_KEY\")\n",
    "CLIENT_ID = os.getenv('REDDIT_CLIENT_ID')\n",
    "CLIENT_SECRET = os.getenv('REDDIT_CLIENT_SECRET')\n",
    "USER_AGENT = os.getenv('REDDIT_USER_AGENT')\n",
    "\n",
    "GENERATE_KNOWLEDGE = False"
   ],
   "id": "d74b9ef0648dd411",
   "outputs": [],
   "execution_count": 3
  },
  {
   "metadata": {
    "ExecuteTime": {
     "end_time": "2024-11-17T14:42:04.195390Z",
     "start_time": "2024-11-17T14:42:04.105941Z"
    }
   },
   "cell_type": "code",
   "source": [
    "client = OpenAI()\n",
    "reddit = praw.Reddit(client_id=CLIENT_ID,\n",
    "                     client_secret=CLIENT_SECRET,\n",
    "                     user_agent=USER_AGENT)"
   ],
   "id": "792d211c92430f29",
   "outputs": [],
   "execution_count": 4
  },
  {
   "metadata": {
    "ExecuteTime": {
     "end_time": "2024-11-17T14:42:06.806254Z",
     "start_time": "2024-11-17T14:42:06.800999Z"
    }
   },
   "cell_type": "code",
   "source": [
    "def get_relevant_topics(query: str) -> list:\n",
    "    \"\"\"\n",
    "    Use OpenAI to generate relevant search phrases for a query\n",
    "    \"\"\"\n",
    "    prompt = f\"\"\"\n",
    "        You are a Reddit search expert who understands how Redditors discuss and search for topics.\n",
    "        Given the query \"{query}\", generate 5 search phrases that will find the most relevant subreddits.\n",
    "\n",
    "        Consider:\n",
    "        - How Redditors naturally phrase their questions/discussions\n",
    "        - Common abbreviations and terminology used on Reddit\n",
    "        - Related tools, technologies, or concepts frequently discussed\n",
    "        - Industry-specific subreddit naming patterns\n",
    "        - Problem-focused search terms (as many discussions are about solving problems)\n",
    "\n",
    "        For example, if query is \"project management software\":\n",
    "        - projectmanagement (direct community)\n",
    "        - asana vs trello (tool comparison commonly discussed)\n",
    "        - agile tools (methodology + tools)\n",
    "        - jira alternatives (tool alternative discussions)\n",
    "        - remote team management (broader problem space)\n",
    "        Return exactly 5 search phrases, one per line.\n",
    "        Focus on phrases that would lead to active, relevant subreddit communities.\n",
    "        Do not include any bullets, numbers, or prefixes.\n",
    "    \"\"\"\n",
    "    \n",
    "    try:\n",
    "        response = client.chat.completions.create(\n",
    "            model=\"gpt-3.5-turbo\",\n",
    "            messages=[{\n",
    "                \"role\": \"user\",\n",
    "                \"content\": prompt\n",
    "            }],\n",
    "            temperature=0.5,\n",
    "            max_tokens=256\n",
    "        )\n",
    "        \n",
    "        # Extract and clean phrases\n",
    "        search_phrases = [\n",
    "            phrase.strip()\n",
    "            for phrase in response.choices[0].message.content.split('\\n')\n",
    "            if phrase.strip() and not phrase.startswith(('-', '*', '•', '1', '2', '3', '4', '5'))\n",
    "        ]\n",
    "        \n",
    "        print(f\"Generated search phrases: {search_phrases}\")\n",
    "        return search_phrases\n",
    "    except Exception as e:\n",
    "        print(f\"Error generating topics: {e}\")\n",
    "        return [query]\n"
   ],
   "id": "9cdebf856a9754c0",
   "outputs": [],
   "execution_count": 5
  },
  {
   "metadata": {
    "ExecuteTime": {
     "end_time": "2024-11-17T14:42:07.200385Z",
     "start_time": "2024-11-17T14:42:07.197178Z"
    }
   },
   "cell_type": "code",
   "source": [
    "def search_subreddits(search_terms, limit=50):\n",
    "    \"\"\"\n",
    "    Search for subreddits matching multiple search terms.\n",
    "    \n",
    "    Args:\n",
    "        search_terms (list): List of search queries to use\n",
    "        limit (int): Maximum number of subreddits to return per search term\n",
    "    \n",
    "    Returns:\n",
    "        list: List of unique subreddit names found across all search terms\n",
    "    \"\"\"\n",
    "    print(f\"Searching for subreddits matching {len(search_terms)} search terms...\")\n",
    "    subreddits = set()  # Using a set to avoid duplicates\n",
    "    \n",
    "    try:\n",
    "        for term in search_terms:\n",
    "            print(f\"Searching with term: '{term}'...\")\n",
    "            term_subreddits = []  \n",
    "            for subreddit in reddit.subreddits.search(term, limit=limit):\n",
    "                subreddits.add(subreddit.display_name)\n",
    "                term_subreddits.append(subreddit.display_name)\n",
    "            print(f\"Found with '{term}': {term_subreddits}\")\n",
    "    except Exception as e:\n",
    "        print(f\"Error during subreddit search: {e}\")\n",
    "    \n",
    "    return list(subreddits)  # Convert set back to list for consistency"
   ],
   "id": "be594236c8f5d385",
   "outputs": [],
   "execution_count": 6
  },
  {
   "metadata": {
    "ExecuteTime": {
     "end_time": "2024-11-17T14:42:07.541432Z",
     "start_time": "2024-11-17T14:42:07.538239Z"
    }
   },
   "cell_type": "code",
   "source": [
    "def get_subreddit_info(subreddit_name):\n",
    "    \"\"\"\n",
    "    Retrieve information about a subreddit.\n",
    "    \"\"\"\n",
    "    try:\n",
    "        subreddit = reddit.subreddit(subreddit_name)\n",
    "        return {\n",
    "            'name': subreddit.display_name,\n",
    "            'title': subreddit.title,\n",
    "            'subscribers': subreddit.subscribers,\n",
    "            'public_description': subreddit.public_description\n",
    "        }\n",
    "    except Exception as e:\n",
    "        print(f\"Error retrieving info for r/{subreddit_name}: {e}\")\n",
    "        return None"
   ],
   "id": "1aba7db8434c5333",
   "outputs": [],
   "execution_count": 7
  },
  {
   "metadata": {
    "ExecuteTime": {
     "end_time": "2024-11-17T14:42:07.837177Z",
     "start_time": "2024-11-17T14:42:07.830900Z"
    }
   },
   "cell_type": "code",
   "source": [
    "def get_subreddit_posts(subreddit_name: str, max_posts: int, max_comments: int = None):\n",
    "    \"\"\"\n",
    "    Fetch all posts and comments from a subreddit, and extract problem-related sentences.\n",
    "    \"\"\"\n",
    "    subreddit = reddit.subreddit(subreddit_name)\n",
    "    posts_data = []\n",
    "\n",
    "    print(f\"Fetching posts from r/{subreddit_name}...\")\n",
    "\n",
    "    try:\n",
    "        for post in subreddit.new(limit=max_posts):\n",
    "            post_info = {\n",
    "                'id': post.id,\n",
    "                'title': post.title,\n",
    "                'author': str(post.author),\n",
    "                'score': post.score,\n",
    "                'upvotes': post.ups,\n",
    "                'downvotes': post.downs,\n",
    "                'num_comments': post.num_comments,\n",
    "                'created_utc': post.created_utc,\n",
    "                'url': post.url,\n",
    "                'permalink': post.permalink,\n",
    "                'selftext': post.selftext,\n",
    "                'comments': []\n",
    "            }\n",
    "\n",
    "            post.comments.replace_more(limit=max_comments)\n",
    "            print(f\"Fetching comments for post ID {post.id}...\")\n",
    "            for comment in post.comments.list():\n",
    "                comment_info = {\n",
    "                    'id': comment.id,\n",
    "                    'author': str(comment.author),\n",
    "                    'body': comment.body,\n",
    "                    'score': comment.score,\n",
    "                    'upvotes': comment.ups,\n",
    "                    'downvotes': comment.downs,\n",
    "                    'created_utc': comment.created_utc,\n",
    "                    'parent_id': comment.parent_id,\n",
    "                    'link_id': comment.link_id,\n",
    "                    'permalink': comment.permalink\n",
    "                }\n",
    "\n",
    "                post_info['comments'].append(comment_info)\n",
    "\n",
    "            posts_data.append(post_info)\n",
    "            time.sleep(0.5)\n",
    "\n",
    "    except Exception as e:\n",
    "        print(f\"Error fetching posts from r/{subreddit_name}: {e}\")\n",
    "\n",
    "    return posts_data"
   ],
   "id": "e33237cf98b570b4",
   "outputs": [],
   "execution_count": 8
  },
  {
   "metadata": {
    "ExecuteTime": {
     "end_time": "2024-11-17T14:42:08.193411Z",
     "start_time": "2024-11-17T14:42:08.186305Z"
    }
   },
   "cell_type": "code",
   "source": [
    "def process_and_store_in_chroma(posts_data: List[Dict], collection_name: str):\n",
    "    chroma_client = chromadb.PersistentClient(path=\"data/chroma_db\")\n",
    "    embeddings_client = OpenAIEmbeddings(\n",
    "        model=\"text-embedding-3-small\",\n",
    "        openai_api_key=OPENAI_API_KEY\n",
    "    )\n",
    "\n",
    "    collection = chroma_client.get_or_create_collection(name=collection_name)\n",
    "\n",
    "    text_splitter = RecursiveCharacterTextSplitter(\n",
    "        chunk_size=500,\n",
    "        chunk_overlap=50\n",
    "    )\n",
    "\n",
    "    documents = []\n",
    "    metadatas = []\n",
    "    ids = []\n",
    "    doc_id = 0\n",
    "\n",
    "    print(f\"Processing posts and comments for {collection_name}...\")\n",
    "\n",
    "    for post in posts_data:\n",
    "        if post[\"selftext\"]:\n",
    "            chunks = text_splitter.split_text(post[\"selftext\"]) if len(post[\"selftext\"]) > 500 else [post[\"selftext\"]]\n",
    "\n",
    "            chunk_embeddings = embeddings_client.embed_documents(chunks)\n",
    "\n",
    "            for chunk, embedding in zip(chunks, chunk_embeddings):\n",
    "                documents.append(chunk)\n",
    "                metadatas.append({\n",
    "                    \"id\": post[\"id\"],\n",
    "                    \"type\": \"post\",\n",
    "                    \"title\": post[\"title\"],\n",
    "                    \"author\": post[\"author\"],\n",
    "                    \"url\": post[\"url\"],\n",
    "                    \"created_utc\": str(post[\"created_utc\"])\n",
    "                })\n",
    "                ids.append(f\"doc_{doc_id}\")\n",
    "                doc_id += 1\n",
    "\n",
    "        for comment in post.get(\"comments\", []):\n",
    "            if comment[\"body\"]:\n",
    "                chunks = text_splitter.split_text(comment[\"body\"]) if len(comment[\"body\"]) > 500 else [comment[\"body\"]]\n",
    "\n",
    "                chunk_embeddings = embeddings_client.embed_documents(chunks)\n",
    "\n",
    "                for chunk, embedding in zip(chunks, chunk_embeddings):\n",
    "                    documents.append(chunk)\n",
    "                    metadatas.append({\n",
    "                        \"id\": comment[\"id\"],\n",
    "                        \"type\": \"comment\",\n",
    "                        \"post_id\": post[\"id\"],\n",
    "                        \"post_title\": post[\"title\"],\n",
    "                        \"author\": comment[\"author\"],\n",
    "                        \"parent_id\": comment[\"parent_id\"],\n",
    "                        \"url\": comment[\"url\"],\n",
    "                        \"created_utc\": str(comment[\"created_utc\"])\n",
    "                    })\n",
    "                    ids.append(f\"doc_{doc_id}\")\n",
    "                    doc_id += 1\n",
    "\n",
    "        if len(documents) >= 500:\n",
    "            embeddings = embeddings_client.embed_documents(documents)\n",
    "            collection.add(\n",
    "                documents=documents,\n",
    "                embeddings=embeddings,\n",
    "                metadatas=metadatas,\n",
    "                ids=ids\n",
    "            )\n",
    "            print(f\"Added batch of {len(documents)} documents to Chroma\")\n",
    "            documents = []\n",
    "            metadatas = []\n",
    "            ids = []\n",
    "\n",
    "    # Add any remaining documents\n",
    "    if documents:\n",
    "        embeddings = embeddings_client.embed_documents(documents)\n",
    "        collection.add(\n",
    "            documents=documents,\n",
    "            embeddings=embeddings,\n",
    "            metadatas=metadatas,\n",
    "            ids=ids\n",
    "        )\n",
    "        print(f\"Added final batch of {len(documents)} documents to Chroma\")\n",
    "\n",
    "    return collection.count()"
   ],
   "id": "7dabfbd537f3d756",
   "outputs": [],
   "execution_count": 9
  },
  {
   "metadata": {
    "ExecuteTime": {
     "end_time": "2024-11-17T14:42:08.527535Z",
     "start_time": "2024-11-17T14:42:08.523598Z"
    }
   },
   "cell_type": "code",
   "source": [
    "def generate_knowledge_base(user_query: str, max_subreddits: int, min_subscribers: int, max_posts: int, max_comments: int = None):    \n",
    "    search_terms = get_relevant_topics(query=user_query)\n",
    "    found_subreddits = search_subreddits(search_terms=search_terms, limit=max_subreddits)\n",
    "    \n",
    "    if not found_subreddits:\n",
    "        print(\"No subreddits with enough subscribers found with the given query.\")\n",
    "        return\n",
    "    \n",
    "    print(\"\\nRetrieving subreddit information...\")\n",
    "    subreddit_infos = []\n",
    "    for subreddit_name in found_subreddits:\n",
    "        info = get_subreddit_info(subreddit_name)\n",
    "        if info:\n",
    "            subreddit_infos.append(info)\n",
    "        time.sleep(1)\n",
    "        \n",
    "    for info in subreddit_infos:\n",
    "        if info['subscribers'] > min_subscribers:\n",
    "            subreddit_name = info['name']\n",
    "            print(f\"\\nProcessing r/{subreddit_name}...\")\n",
    "            \n",
    "            posts = get_subreddit_posts(subreddit_name, max_posts, max_comments)\n",
    "    \n",
    "            try:\n",
    "                collection_name = f\"reddit_{subreddit_name.lower()}\"\n",
    "                doc_count = process_and_store_in_chroma(posts, collection_name)\n",
    "                print(f\"Processed and stored {doc_count} documents in Chroma collection '{collection_name}'\")\n",
    "            except Exception as e:\n",
    "                print(f\"Error processing and storing data in Chroma: {e}\")"
   ],
   "id": "78d60fa8d41f57b3",
   "outputs": [],
   "execution_count": 10
  },
  {
   "metadata": {
    "ExecuteTime": {
     "end_time": "2024-11-17T14:42:08.826137Z",
     "start_time": "2024-11-17T14:42:08.817062Z"
    }
   },
   "cell_type": "code",
   "source": [
    "if GENERATE_KNOWLEDGE:\n",
    "    query = input(\"Enter the search query for subreddits: \")\n",
    "    max_subreddits = int(input(\"Enter the number of subreddits to find: \"))\n",
    "    generate_knowledge_base(user_query=query, max_subreddits=max_subreddits, min_subscribers=100000, max_posts=100)"
   ],
   "id": "75663b31bfffed30",
   "outputs": [],
   "execution_count": 11
  },
  {
   "metadata": {},
   "cell_type": "markdown",
   "source": "## Agent workflow",
   "id": "bbd45328086e0fca"
  },
  {
   "metadata": {
    "ExecuteTime": {
     "end_time": "2024-11-17T14:42:10.337836Z",
     "start_time": "2024-11-17T14:42:10.299750Z"
    }
   },
   "cell_type": "code",
   "source": [
    "from langchain_openai import ChatOpenAI\n",
    "from langchain_core.prompts import ChatPromptTemplate\n",
    "from langchain_core.messages import SystemMessage, AIMessage, HumanMessage\n",
    "\n",
    "from langgraph.graph import END, START, StateGraph"
   ],
   "id": "53990c6a46798f0b",
   "outputs": [],
   "execution_count": 12
  },
  {
   "metadata": {
    "ExecuteTime": {
     "end_time": "2024-11-17T14:42:10.754797Z",
     "start_time": "2024-11-17T14:42:10.731612Z"
    }
   },
   "cell_type": "code",
   "source": "llm = ChatOpenAI(model=\"gpt-4\", temperature=0)",
   "id": "460ae210411f8a56",
   "outputs": [],
   "execution_count": 13
  },
  {
   "metadata": {
    "ExecuteTime": {
     "end_time": "2024-11-17T14:42:10.923975Z",
     "start_time": "2024-11-17T14:42:10.918863Z"
    }
   },
   "cell_type": "code",
   "source": [
    "def query_chroma(query_text: str, collection_name: str, n_results: int = 5):\n",
    "    \"\"\"\n",
    "    Query the Chroma database for similar content.\n",
    "    \"\"\"\n",
    "    chroma_client = chromadb.PersistentClient(path=\"data/chroma_db\")\n",
    "    embeddings_client = OpenAIEmbeddings(\n",
    "        model=\"text-embedding-3-small\",\n",
    "        openai_api_key=OPENAI_API_KEY\n",
    "    )\n",
    "\n",
    "    collection = chroma_client.get_collection(name=collection_name)\n",
    "    query_embedding = embeddings_client.embed_query(query_text)\n",
    "\n",
    "    results = collection.query(\n",
    "        query_embeddings=[query_embedding],\n",
    "        n_results=n_results\n",
    "    )\n",
    "\n",
    "    return results"
   ],
   "id": "7502cee186316763",
   "outputs": [],
   "execution_count": 14
  },
  {
   "metadata": {
    "ExecuteTime": {
     "end_time": "2024-11-17T14:42:11.083053Z",
     "start_time": "2024-11-17T14:42:11.078273Z"
    }
   },
   "cell_type": "code",
   "source": [
    "def query_and_format_results(query_text: str, collection_name: str, n_results: int = 5) -> Dict[dict, list]:\n",
    "    \"\"\"\n",
    "    Query Chroma and return formatted results with all related information.\n",
    "\n",
    "    Args:\n",
    "        query_text (str): The search query\n",
    "        collection_name (str): Name of the Chroma collection to search\n",
    "        n_results (int): Number of results to return\n",
    "\n",
    "    Returns:\n",
    "        dict: Formatted results with query info and matched documents\n",
    "    \"\"\"\n",
    "    try:\n",
    "        # Get raw results from Chroma\n",
    "        results = query_chroma(query_text, collection_name, n_results)\n",
    "\n",
    "        # Format the results\n",
    "        formatted_results = {\n",
    "            \"query_info\": {\n",
    "                \"search_query\": query_text,\n",
    "                \"collection\": collection_name,\n",
    "                \"total_results\": len(results['ids'][0])\n",
    "            },\n",
    "            \"matches\": []\n",
    "        }\n",
    "\n",
    "        # Process each result\n",
    "        for i in range(len(results['ids'][0])):\n",
    "            match = {\n",
    "                \"content\": results['documents'][0][i],\n",
    "                \"metadata\": results['metadatas'][0][i],\n",
    "                \"distance\": results['distances'][0][i] if 'distances' in results else None\n",
    "            }\n",
    "            formatted_results[\"matches\"].append(match)\n",
    "\n",
    "        return formatted_results\n",
    "\n",
    "    except Exception as e:\n",
    "        print(f\"Error querying database: {e}\")\n",
    "        return None\n"
   ],
   "id": "a669951fc079ccd1",
   "outputs": [],
   "execution_count": 15
  },
  {
   "metadata": {
    "ExecuteTime": {
     "end_time": "2024-11-17T14:42:11.230777Z",
     "start_time": "2024-11-17T14:42:11.227068Z"
    }
   },
   "cell_type": "code",
   "source": [
    "def augment_query(query_text: str, query_file_path: str = 'augment.json'):\n",
    "    \"\"\"Augment query using json\"\"\"\n",
    "    try:\n",
    "        with open(query_file_path, 'r') as f:\n",
    "            rules = json.load(f)\n",
    "            return [f\"{rule.get('prefix', '')} {query_text} {rule.get('suffix', '')}\".strip() \n",
    "                    for rule in rules.get('searches', [])]\n",
    "    except:\n",
    "        return [query_text]"
   ],
   "id": "7eeba914d30f2025",
   "outputs": [],
   "execution_count": 16
  },
  {
   "metadata": {
    "ExecuteTime": {
     "end_time": "2024-11-17T14:42:11.390349Z",
     "start_time": "2024-11-17T14:42:11.387895Z"
    }
   },
   "cell_type": "code",
   "source": [
    "def retrieve(state):\n",
    "    query = state[\"query\"]\n",
    "    # TODO: Determine best collection\n",
    "    # collection_name = state[\"collection\"]\n",
    "    collection_name = \"reddit_digitalmarketing\"\n",
    "\n",
    "    augmented_queries = augment_query(query)\n",
    "    \n",
    "    for augmented_query in augmented_queries:\n",
    "        print(f\"=== Search augmented query: {augmented_query} ===\")\n",
    "        results = query_and_format_results(augmented_query, collection_name)\n",
    "        \n",
    "    return {\"results\": results, \"query\": query}"
   ],
   "id": "af4586c1a11d49bc",
   "outputs": [],
   "execution_count": 17
  },
  {
   "metadata": {
    "ExecuteTime": {
     "end_time": "2024-11-17T14:42:11.537104Z",
     "start_time": "2024-11-17T14:42:11.534114Z"
    }
   },
   "cell_type": "code",
   "source": [
    "def generate(state):\n",
    "    results = state[\"results\"]\n",
    "    query = state[\"query\"]\n",
    "    \n",
    "    context_parts = []\n",
    "    for match in results['matches']:\n",
    "        metadata = match['metadata']\n",
    "        source_info = f\"Source: {metadata['type'].capitalize()}\"\n",
    "        if metadata['type'] == 'post':\n",
    "            source_info += f\" - Title: {metadata['title']}\"\n",
    "        \n",
    "        context_parts.append(f\"{source_info}\\nContent: {match['content']}\\n\")\n",
    "        \n",
    "    context = \"\\n\".join(context_parts)\n",
    "\n",
    "    with open('generator_prompt.txt', 'r') as f:\n",
    "        sys_prompt = f.read()\n",
    "    \n",
    "    prompt = ChatPromptTemplate.from_messages([\n",
    "        SystemMessage(content=sys_prompt),\n",
    "        AIMessage(content=f\"**Context:**\\n{context}\\n\\n\"),\n",
    "        HumanMessage(content=f\"**Question:** {query}\")\n",
    "    ])\n",
    "    \n",
    "    generator = prompt | llm\n",
    "    response = generator.invoke({})\n",
    "    \n",
    "    return {\"results\": results, \"query\": query, \"generation\": response.content}  "
   ],
   "id": "986d983f1db6c90a",
   "outputs": [],
   "execution_count": 18
  },
  {
   "metadata": {
    "ExecuteTime": {
     "end_time": "2024-11-17T14:42:11.695346Z",
     "start_time": "2024-11-17T14:42:11.692804Z"
    }
   },
   "cell_type": "code",
   "source": [
    "class AgentState(TypedDict):\n",
    "    query : str\n",
    "    generation: str\n",
    "    results : Dict[dict, list]"
   ],
   "id": "214c9bbe6fa1e691",
   "outputs": [],
   "execution_count": 19
  },
  {
   "metadata": {
    "ExecuteTime": {
     "end_time": "2024-11-17T14:42:11.831623Z",
     "start_time": "2024-11-17T14:42:11.827972Z"
    }
   },
   "cell_type": "code",
   "source": [
    "workflow = StateGraph(AgentState)\n",
    "\n",
    "workflow.add_node(retrieve, \"retrieve\")\n",
    "workflow.add_node(generate, \"generate\")\n",
    "\n",
    "workflow.add_edge(start_key=START, end_key=\"retrieve\")\n",
    "workflow.add_edge(start_key=\"retrieve\", end_key=\"generate\")\n",
    "workflow.add_edge(start_key=\"generate\", end_key=END)\n",
    "\n",
    "graph = workflow.compile()"
   ],
   "id": "52716f0f97c410a4",
   "outputs": [],
   "execution_count": 20
  },
  {
   "metadata": {
    "ExecuteTime": {
     "end_time": "2024-11-17T14:42:12.694296Z",
     "start_time": "2024-11-17T14:42:11.984323Z"
    }
   },
   "cell_type": "code",
   "source": [
    "from IPython.display import Image, display\n",
    "\n",
    "display(Image(graph.get_graph(xray=True).draw_mermaid_png()))"
   ],
   "id": "6827a8528a3dcd4c",
   "outputs": [
    {
     "data": {
      "image/png": "[encoded data removed]",
      "text/plain": [
       "<IPython.core.display.Image object>"
      ]
     },
     "metadata": {},
     "output_type": "display_data"
    }
   ],
   "execution_count": 21
  },
  {
   "metadata": {
    "ExecuteTime": {
     "end_time": "2024-11-17T14:42:23.083748Z",
     "start_time": "2024-11-17T14:42:12.714588Z"
    }
   },
   "cell_type": "code",
   "source": [
    "inputs = {\"query\": \"What are the best tools for lead generation?\"}\n",
    "for output in graph.stream(inputs):\n",
    "    for key, value in output.items():\n",
    "        print(f\"Finished running: {key}:\")\n",
    "        if 'generation' in value:\n",
    "            print(value['generation'])\n",
    "        "
   ],
   "id": "1bb73ff7a40fa7e3",
   "outputs": [
    {
     "name": "stdout",
     "output_type": "stream",
     "text": [
      "=== Search augmented query: What are the best tools for lead generation? ===\n",
      "Finished running: retrieve:\n",
      "Finished running: generate:\n",
      "**1. Key Findings:**\n",
      "\n",
      "- There is a high demand for effective and affordable B2B lead generation and management tools.\n",
      "- Users are overwhelmed by the number of options available and are seeking recommendations based on personal experiences.\n",
      "- Tools mentioned include Hubspot, ActiveCampaign, Mailchimp, Monday CRM, LinkedIn’s SalesFlow, Warmly, and ZoomInfo.\n",
      "- Some users have tried PPC and SEO strategies but have struggled with lead generation and conversion.\n",
      "- There is a suggestion to hire an SDR (Sales Development Representative) for outbound efforts.\n",
      "\n",
      "**2. Market Implications:**\n",
      "\n",
      "- There is a market opportunity for affordable, user-friendly B2B lead generation and management tools.\n",
      "- The market is saturated with options, creating confusion and decision paralysis among potential users.\n",
      "- There is a potential gap in the market for tools or services that effectively combine lead generation with SEO and PPC strategies.\n",
      "- The suggestion to hire an SDR indicates a potential market for lead generation and management consulting or outsourcing services.\n",
      "\n",
      "**3. Recommendations:**\n",
      "\n",
      "- Companies offering B2B lead generation and management tools should focus on user experience and affordability to differentiate themselves in a crowded market.\n",
      "- Marketing efforts should highlight ease of use, effectiveness, and value for money.\n",
      "- Consider offering educational content (e.g., webinars, tutorials, blog posts) to help potential users understand how to effectively use these tools.\n",
      "- Companies could also consider offering consulting or outsourcing services for businesses that prefer to hire an expert rather than manage lead generation and outreach in-house.\n",
      "- Further research is needed to understand why PPC and SEO strategies are not generating leads and conversions for some users. This could reveal additional market opportunities.\n"
     ]
    }
   ],
   "execution_count": 22
  },
  {
   "metadata": {},
   "cell_type": "code",
   "source": "",
   "id": "92d0c9bf1564b2d1",
   "outputs": [],
   "execution_count": null
  }
 ],
 "metadata": {
  "kernelspec": {
   "display_name": "AgentCraft Env",
   "language": "python",
   "name": "venv"
  },
  "language_info": {
   "codemirror_mode": {
    "name": "ipython",
    "version": 2
   },
   "file_extension": ".py",
   "mimetype": "text/x-python",
   "name": "python",
   "nbconvert_exporter": "python",
   "pygments_lexer": "ipython2",
   "version": "2.7.6"
  }
 },
 "nbformat": 4,
 "nbformat_minor": 5
}
